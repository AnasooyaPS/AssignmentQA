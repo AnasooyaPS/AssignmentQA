{
 "cells": [
  {
   "cell_type": "markdown",
   "metadata": {
    "id": "4z_Z-K1tlrS7"
   },
   "source": [
    "## 1. Complete the following code to find the area of an equilateral triangle. Output should be as displayed"
   ]
  },
  {
   "cell_type": "code",
   "execution_count": 3,
   "metadata": {
    "id": "rP2qFD_SlrS_"
   },
   "outputs": [
    {
     "name": "stdout",
     "output_type": "stream",
     "text": [
      "Enter the side of the equilateral triangle: 5\n",
      "The area is 10.825317547305483\n"
     ]
    }
   ],
   "source": [
    "import math\n",
    "side = float(input(\"Enter the side of the equilateral triangle: \"))\n",
    "area = ((math.sqrt(3))/4)*pow(side,2)\n",
    "print(\"The area is\",area)\n"
   ]
  },
  {
   "cell_type": "markdown",
   "metadata": {
    "id": "TjVKjIfclrTB"
   },
   "source": [
    "## 2. Write a program to count the number of each characters in a string"
   ]
  },
  {
   "cell_type": "code",
   "execution_count": 16,
   "metadata": {
    "id": "JY5seVUQlrTC"
   },
   "outputs": [
    {
     "name": "stdout",
     "output_type": "stream",
     "text": [
      "Enter the string bookworm\n",
      "No: of each character in the string is {'b': 1, 'o': 3, 'k': 1, 'w': 1, 'r': 1, 'm': 1}\n"
     ]
    }
   ],
   "source": [
    "string=input(\"Enter the string \")\n",
    "word={}\n",
    "for i in string:\n",
    "    if i in word:\n",
    "        word[i]=word[i]+1\n",
    "    else:\n",
    "        word[i]=1\n",
    "print(\"No: of each character in the string is\",str(word))"
   ]
  },
  {
   "cell_type": "markdown",
   "metadata": {
    "id": "l3LCULfklrTD"
   },
   "source": [
    "## Write a program to find the area and perimeter of a rectangle using functions"
   ]
  },
  {
   "cell_type": "code",
   "execution_count": 17,
   "metadata": {
    "id": "8haQD8edlrTD"
   },
   "outputs": [
    {
     "name": "stdout",
     "output_type": "stream",
     "text": [
      "Enter the length 10\n",
      "Enter the breadth  5\n",
      "The area is 50\n",
      "The perimeter is 30\n"
     ]
    }
   ],
   "source": [
    "def area(l,b):\n",
    "    area=l*b\n",
    "    return area\n",
    "def perimeter(l,b):\n",
    "    perimeter=2*(l+b)\n",
    "    return perimeter\n",
    "l=int(input(\"Enter the length \"))\n",
    "b=int(input(\"Enter the breadth  \"))\n",
    "print(\"The area is\",area(l,b))\n",
    "print(\"The perimeter is\",perimeter(l,b))"
   ]
  },
  {
   "cell_type": "markdown",
   "metadata": {
    "id": "JHK4ZdsflrTE"
   },
   "source": [
    "## 4. Write a program to print the fibonacci series till a specified number"
   ]
  },
  {
   "cell_type": "code",
   "execution_count": 14,
   "metadata": {
    "id": "LyBEj-4SlrTE"
   },
   "outputs": [
    {
     "name": "stdout",
     "output_type": "stream",
     "text": [
      "Enter a positive limit 9\n",
      "The fibonacci series is\n",
      "0\n",
      "1\n",
      "1\n",
      "2\n",
      "3\n",
      "5\n",
      "8\n",
      "13\n",
      "21\n"
     ]
    }
   ],
   "source": [
    "l=int(input(\"Enter a positive limit \"))\n",
    "a=0\n",
    "b=1\n",
    "count=0\n",
    "if l==1:\n",
    "    print(\"The fibonacci series is\",a)\n",
    "else:\n",
    "    print(\"The fibonacci series is\")\n",
    "    while count<l:\n",
    "        print(a)\n",
    "        c=a+b\n",
    "        a=b\n",
    "        b=c\n",
    "        count=count+1\n",
    "    "
   ]
  },
  {
   "cell_type": "markdown",
   "metadata": {
    "id": "u4uBUcQKlrTE"
   },
   "source": [
    "## 5. Complete the following code to find the minimum of 3 number using cinditional statements. Output should be as displayed"
   ]
  },
  {
   "cell_type": "code",
   "execution_count": 8,
   "metadata": {
    "id": "XdZwrZjIlrTF"
   },
   "outputs": [
    {
     "name": "stdout",
     "output_type": "stream",
     "text": [
      "Enter first number 54\n",
      "Enter second number 17\n",
      "Enter third number 65\n",
      "First number : 54\n",
      "Second number : 17\n",
      "Third number : 65\n",
      "17  is smallest\n"
     ]
    }
   ],
   "source": [
    "a=int(input(\"Enter first number \"))\n",
    "b=int(input(\"Enter second number \"))\n",
    "c=int(input(\"Enter third number \"))\n",
    "print(\"First number :\",a)\n",
    "print(\"Second number :\",b)\n",
    "print(\"Third number :\",c)\n",
    "smallest=a\n",
    "if(b<a)and(b<c):\n",
    "    smallest=b\n",
    "    print(b,\" is smallest\")\n",
    "elif(c<a):\n",
    "    smallest=c\n",
    "    print(c,\" is smallest\")\n",
    "elif(a==b)and(b==c):\n",
    "     print(\"Entered numbers are equal!!!\")\n",
    "else:\n",
    "    print(a,\"is smallest\")\n",
    "   "
   ]
  },
  {
   "cell_type": "markdown",
   "metadata": {
    "id": "aR_CnToWlrTG"
   },
   "source": [
    "## 6. Write a program to print star pyramind. The number of rows should be taken as input from the user"
   ]
  },
  {
   "cell_type": "code",
   "execution_count": 3,
   "metadata": {
    "id": "M37A-buplrTG"
   },
   "outputs": [
    {
     "name": "stdout",
     "output_type": "stream",
     "text": [
      "Enter the no: of rows5\n",
      "    * \n",
      "   * * \n",
      "  * * * \n",
      " * * * * \n",
      "* * * * * \n"
     ]
    }
   ],
   "source": [
    "n=int(input(\"Enter the no: of rows\"))\n",
    "space=n-1\n",
    "for i in range(0,n):\n",
    "    for j in range(0,space):\n",
    "        print(end=' ')\n",
    "    space=space-1\n",
    "    for j in range(0,i+1):\n",
    "        print(\"* \",end='')\n",
    "    print('\\r')\n",
    "    "
   ]
  },
  {
   "cell_type": "markdown",
   "metadata": {
    "id": "tlY6aFWBlrTH"
   },
   "source": [
    "## 7. Complete the following code to convert hour into seconds. Output should be as displayed"
   ]
  },
  {
   "cell_type": "code",
   "execution_count": 4,
   "metadata": {
    "id": "YOZQFk7FlrTH"
   },
   "outputs": [
    {
     "name": "stdout",
     "output_type": "stream",
     "text": [
      "Enter the number of hours1.5\n",
      "1.5  Hour is equal to 5400.0  Seconds\n"
     ]
    }
   ],
   "source": [
    "def to_seconds(t):\n",
    "    t=time_in_hours*60*60\n",
    "    return t\n",
    "time_in_hours=float(input(\"Enter the number of hours\"))\n",
    "print(time_in_hours ,\" Hour is equal to\" ,to_seconds(time_in_hours) ,\" Seconds\")"
   ]
  },
  {
   "cell_type": "markdown",
   "metadata": {
    "id": "CnYorNiLlrTI"
   },
   "source": [
    "## 8. Write a program to print multiplication table as below"
   ]
  },
  {
   "cell_type": "code",
   "execution_count": 9,
   "metadata": {
    "id": "dPQqDPuDlrTI"
   },
   "outputs": [
    {
     "name": "stdout",
     "output_type": "stream",
     "text": [
      "Enter the number for the multiplication table7\n",
      "1 * 7 = 7\n",
      "2 * 7 = 14\n",
      "3 * 7 = 21\n",
      "4 * 7 = 28\n",
      "5 * 7 = 35\n",
      "6 * 7 = 42\n",
      "7 * 7 = 49\n",
      "8 * 7 = 56\n",
      "9 * 7 = 63\n",
      "10 * 7 = 70\n"
     ]
    }
   ],
   "source": [
    "n=int(input(\"Enter the number for the multiplication table\"))\n",
    "for i in range(1,11):\n",
    "    print(i,'*',n,'=',i*n)"
   ]
  },
  {
   "cell_type": "markdown",
   "metadata": {
    "id": "Fiaez8iblrTI"
   },
   "source": [
    "## 9. Write a program to take your 5 favorite food as list and print each as 'I like Biriyani'"
   ]
  },
  {
   "cell_type": "code",
   "execution_count": 10,
   "metadata": {
    "id": "39W1zFX7lrTJ"
   },
   "outputs": [
    {
     "name": "stdout",
     "output_type": "stream",
     "text": [
      "Enter the food items Pizza\n",
      "Enter the food items Burger\n",
      "Enter the food items Sandwich\n",
      "Enter the food items Ice cream\n",
      "Enter the food items Biriyani\n",
      "I like Pizza\n",
      "I like Burger\n",
      "I like Sandwich\n",
      "I like Ice cream\n",
      "I like Biriyani\n"
     ]
    }
   ],
   "source": [
    "food=[]\n",
    "for i in range(1,6):\n",
    "    n=input(\"Enter the food items \")\n",
    "    food.append(n)\n",
    "for i in food:\n",
    "    print(\"I like\",i)"
   ]
  },
  {
   "cell_type": "markdown",
   "metadata": {
    "id": "3vlcDNNEP7d_"
   },
   "source": [
    "## 10. Find error(s) in the following code(if any) and rewrite code.\n",
    "\n"
   ]
  },
  {
   "cell_type": "code",
   "execution_count": 15,
   "metadata": {
    "id": "coREkcY3P9sG"
   },
   "outputs": [
    {
     "name": "stdout",
     "output_type": "stream",
     "text": [
      "Enter value of x:6\n",
      "They are unequal\n",
      "They are unequal\n",
      "They are unequal\n",
      "They are unequal\n",
      "They are unequal\n",
      "They are unequal\n",
      "x= 6 and y= 6 are equal\n",
      "They are unequal\n",
      "They are unequal\n",
      "They are unequal\n"
     ]
    }
   ],
   "source": [
    "x=int(input(\"Enter value of x:\"))\n",
    "for y in range(0,10):\n",
    "     if(x==y):\n",
    "        print(\"x=\",x,\"and y=\",y,\"are equal\")\n",
    "     else:\n",
    "        print(\"They are unequal\")"
   ]
  },
  {
   "cell_type": "code",
   "execution_count": null,
   "metadata": {},
   "outputs": [],
   "source": []
  }
 ],
 "metadata": {
  "colab": {
   "collapsed_sections": [],
   "name": "Q&A activity student file.ipynb",
   "provenance": []
  },
  "kernelspec": {
   "display_name": "Python 3",
   "language": "python",
   "name": "python3"
  },
  "language_info": {
   "codemirror_mode": {
    "name": "ipython",
    "version": 3
   },
   "file_extension": ".py",
   "mimetype": "text/x-python",
   "name": "python",
   "nbconvert_exporter": "python",
   "pygments_lexer": "ipython3",
   "version": "3.8.8"
  }
 },
 "nbformat": 4,
 "nbformat_minor": 1
}
